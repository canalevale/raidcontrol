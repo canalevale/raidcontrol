{
 "cells": [
  {
   "cell_type": "markdown",
   "id": "588e33cc",
   "metadata": {},
   "source": [
    "OCR utilizanod SVM y libsvm\n",
    "------------------------------\n",
    "Extraido del libro \"Programing computer vision with python\"\n",
    "Link: http://programmingcomputervision.com/downloads/ProgrammingComputerVision_CCdraft.pdf#page=223&zoom=100,97,325"
   ]
  },
  {
   "cell_type": "code",
   "execution_count": null,
   "id": "0f8780c3",
   "metadata": {},
   "outputs": [],
   "source": [
    "import numpy as np\n",
    "from PIL import Image\n",
    "from libsvm.svmutil import *\n",
    "import os"
   ]
  },
  {
   "cell_type": "code",
   "execution_count": null,
   "id": "311976a6",
   "metadata": {},
   "outputs": [],
   "source": [
    "## Paths\n",
    "path_train = r\"..\\..\\Data\\dataset\\text_arial\"\n",
    "path_test = r\"..\\..\\Data\\dataset\\text_arial_test\""
   ]
  },
  {
   "cell_type": "code",
   "execution_count": null,
   "id": "809c728f",
   "metadata": {},
   "outputs": [],
   "source": [
    "## Dataset Loader\n",
    "def load_ocr_data(path, limit_per_class=None):\n",
    "    imlist = []\n",
    "    counters = {}  # contador de imágenes por subcarpeta/clase\n",
    "\n",
    "    for root, dirs, files in os.walk(path):\n",
    "        # obtenemos el nombre de la carpeta padre como clase\n",
    "        class_name = os.path.basename(root)\n",
    "        if not class_name.isdigit():\n",
    "            continue  # ignoramos carpetas que no son números\n",
    "\n",
    "        # inicializamos contador si no existe\n",
    "        if class_name not in counters:\n",
    "            counters[class_name] = 0\n",
    "\n",
    "        for f in files:\n",
    "            if f.lower().endswith('.png'):\n",
    "                if limit_per_class is not None and counters[class_name] >= limit_per_class:\n",
    "                    continue  # ya llegamos al límite en esta clase\n",
    "                imlist.append(os.path.join(root, f))\n",
    "                counters[class_name] += 1\n",
    "\n",
    "    labels = [int(os.path.basename(imfile).split('_')[0]) for imfile in imlist]\n",
    "\n",
    "    feature = []\n",
    "    for image in imlist:\n",
    "        im = np.array(Image.open(image).convert('L'),dtype=float) / 255\n",
    "        feature.append(im.flatten())\n",
    "\n",
    "    return np.array(feature), labels"
   ]
  },
  {
   "cell_type": "code",
   "execution_count": null,
   "id": "64a30d90",
   "metadata": {},
   "outputs": [],
   "source": [
    "## Traning data\n",
    "feature, labels = load_ocr_data(path_train,100)\n",
    "\n",
    "## Test data\n",
    "feature_test, labels_test = load_ocr_data(path_test,100)\n",
    "\n",
    "\n",
    "import random\n",
    "\n",
    "combined = list(zip(feature, labels))\n",
    "random.shuffle(combined)\n",
    "feature[:], labels[:] = zip(*combined)\n",
    "\n",
    "combined = list(zip(feature_test, labels_test))\n",
    "random.shuffle(combined)\n",
    "feature_test[:], labels_test[:] = zip(*combined)\n",
    "\n",
    "\n",
    "feature = list(map(list,feature))\n",
    "feature_test = list(map(list,feature_test))\n",
    "\n",
    "prob = svm_problem(labels,feature)\n",
    "param = svm_parameter('-t 2 -s 0')\n",
    "\n",
    "print(len(feature))\n",
    "\n",
    "\n",
    "m = svm_train(prob,param)\n",
    "\n",
    "res = svm_predict(labels,feature,m)\n",
    "\n",
    "res = svm_predict(labels_test,feature_test,m)"
   ]
  },
  {
   "cell_type": "code",
   "execution_count": null,
   "id": "8ce1db9e",
   "metadata": {},
   "outputs": [],
   "source": [
    "svm_save_model(\"svm_v4_arial_28_digits_v2.model\", m)"
   ]
  },
  {
   "cell_type": "code",
   "execution_count": null,
   "id": "6a9f8954",
   "metadata": {},
   "outputs": [],
   "source": [
    "model = svm_load_model('svm_v4_arial_28_digits_v1.model')\n",
    "\n",
    "feature_test, labels_test = load_ocr_data(path_test)\n",
    "feature_test = list(map(list,feature_test))\n",
    "res = svm_predict(labels_test,feature_test,model)\n",
    "print(res)"
   ]
  },
  {
   "cell_type": "code",
   "execution_count": null,
   "id": "0b7f97f1",
   "metadata": {},
   "outputs": [],
   "source": [
    "model = svm_load_model('svm_v4_arial_28_digits_v2.model')\n",
    "feature_test, labels_test = load_ocr_data(path_test,1)\n",
    "import random\n",
    "combined = list(zip(feature_test, labels_test))\n",
    "random.shuffle(combined)\n",
    "feature_test[:], labels_test[:] = zip(*combined)\n",
    "feature_test = list(map(list,feature_test))\n",
    "p_labels, p_acc, p_vals = svm_predict(labels_test,feature_test,model)\n",
    "print(labels_test)\n",
    "print(p_labels)\n",
    "print(p_vals)\n",
    "print(p_acc)"
   ]
  },
  {
   "cell_type": "code",
   "execution_count": null,
   "id": "206999e4",
   "metadata": {},
   "outputs": [],
   "source": [
    "print(res)"
   ]
  }
 ],
 "metadata": {
  "kernelspec": {
   "display_name": "raidcontrol (3.12.9)",
   "language": "python",
   "name": "python3"
  },
  "language_info": {
   "codemirror_mode": {
    "name": "ipython",
    "version": 3
   },
   "file_extension": ".py",
   "mimetype": "text/x-python",
   "name": "python",
   "nbconvert_exporter": "python",
   "pygments_lexer": "ipython3",
   "version": "3.12.9"
  }
 },
 "nbformat": 4,
 "nbformat_minor": 5
}
