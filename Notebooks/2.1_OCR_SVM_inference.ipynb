{
 "cells": [
  {
   "cell_type": "code",
   "execution_count": 1,
   "id": "0f8780c3",
   "metadata": {},
   "outputs": [],
   "source": [
    "# Inference when you saved a full sklearn Pipeline (includes HOG)\n",
    "import joblib, cv2, numpy as np"
   ]
  },
  {
   "cell_type": "code",
   "execution_count": 2,
   "id": "311976a6",
   "metadata": {},
   "outputs": [],
   "source": [
    "BUNDLE_PATH = \"svm_ocr_arialv2.pkl\"  # el .joblib que guardaste al entrenar\n",
    "bundle = joblib.load(BUNDLE_PATH)\n",
    "clf = bundle[\"model\"] if isinstance(bundle, dict) else bundle  # soporta ambos casos"
   ]
  },
  {
   "cell_type": "code",
   "execution_count": null,
   "id": "809c728f",
   "metadata": {},
   "outputs": [],
   "source": [
    "def predict_digit_from_path2(path):\n",
    "    import cv2, numpy as np\n",
    "    img = cv2.imread(path, cv2.IMREAD_GRAYSCALE)\n",
    "    # binarizar/invertir si hace falta…\n",
    "    _, img = cv2.threshold(img, 127, 255, cv2.THRESH_BINARY)\n",
    "    if img.mean() > 127:  # asegurar blanco=digito, negro=fondo\n",
    "        img = 255 - img\n",
    "    img = cv2.resize(img, (28, 28), interpolation=cv2.INTER_NEAREST)\n",
    "\n",
    "    x = (img.astype(np.float32) / 255.0).reshape(1, -1)   # <-- FLATTEN A 1x784\n",
    "    pred = clf.predict(x)[0]\n",
    "    return int(pred)"
   ]
  },
  {
   "cell_type": "code",
   "execution_count": 4,
   "id": "8ce1db9e",
   "metadata": {},
   "outputs": [
    {
     "name": "stdout",
     "output_type": "stream",
     "text": [
      "pred: 6\n"
     ]
    }
   ],
   "source": [
    "print(\"pred:\",predict_digit_from_path2(r\"E:\\Documents\\Facultad\\Proyecto\\Data\\dataset\\text_arial_test2\\6\\6_00000.png\"))"
   ]
  }
 ],
 "metadata": {
  "kernelspec": {
   "display_name": "raidcontrol (3.12.9)",
   "language": "python",
   "name": "python3"
  },
  "language_info": {
   "codemirror_mode": {
    "name": "ipython",
    "version": 3
   },
   "file_extension": ".py",
   "mimetype": "text/x-python",
   "name": "python",
   "nbconvert_exporter": "python",
   "pygments_lexer": "ipython3",
   "version": "3.12.10"
  }
 },
 "nbformat": 4,
 "nbformat_minor": 5
}
